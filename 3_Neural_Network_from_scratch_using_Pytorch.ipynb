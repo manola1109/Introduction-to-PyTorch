{
  "nbformat": 4,
  "nbformat_minor": 0,
  "metadata": {
    "accelerator": "GPU",
    "colab": {
      "provenance": [],
      "include_colab_link": true
    },
    "kernelspec": {
      "display_name": "Python 3",
      "language": "python",
      "name": "python3"
    },
    "language_info": {
      "codemirror_mode": {
        "name": "ipython",
        "version": 3
      },
      "file_extension": ".py",
      "mimetype": "text/x-python",
      "name": "python",
      "nbconvert_exporter": "python",
      "pygments_lexer": "ipython3",
      "version": "3.7.3"
    }
  },
  "cells": [
    {
      "cell_type": "markdown",
      "metadata": {
        "id": "view-in-github",
        "colab_type": "text"
      },
      "source": [
        "<a href=\"https://colab.research.google.com/github/manola1109/Introduction-to-PyTorch/blob/main/3_Neural_Network_from_scratch_using_Pytorch.ipynb\" target=\"_parent\"><img src=\"https://colab.research.google.com/assets/colab-badge.svg\" alt=\"Open In Colab\"/></a>"
      ]
    },
    {
      "cell_type": "markdown",
      "metadata": {
        "id": "cEG1dhnuNFRk"
      },
      "source": [
        "# Steps to build a Neural Network from scratch in PyTorch\n",
        "\n",
        "<ol>1. Loading the dataset (Input and Output)</ol>\n",
        "<ol>2. Architecture of the model (# input, hidden and output neurons)</ol>\n",
        "<ol>3. Initializing the weights for all the layers</ol>\n",
        "<ol>4. Implementing forward propagation</ol>\n",
        "<ol>5. Implementing backward propagation</ol>\n",
        "<ol>6. Train the model for n epochs </ol>"
      ]
    },
    {
      "cell_type": "markdown",
      "metadata": {
        "id": "sbgj7HfHNFRr"
      },
      "source": [
        "## 1. Loading the dataset (Input and Output)"
      ]
    },
    {
      "cell_type": "code",
      "metadata": {
        "id": "E5S9HgBzNFRw"
      },
      "source": [
        "# importing required libraries\n",
        "import torch\n",
        "import matplotlib.pyplot as plt\n",
        "\n",
        "%matplotlib inline"
      ],
      "execution_count": 1,
      "outputs": []
    },
    {
      "cell_type": "code",
      "metadata": {
        "id": "H_h7HoPONFR_",
        "outputId": "2e0533a2-2f1f-49fb-c835-f9570a833825",
        "colab": {
          "base_uri": "https://localhost:8080/"
        }
      },
      "source": [
        "# creating the input tensor\n",
        "X = torch.tensor([[1,0,1,0], [1,0,1,1], [0,1,0,1]], dtype=torch.float)\n",
        "print ('\\nInput:')\n",
        "print(X)\n",
        "# shape of input tensor\n",
        "print('\\nShape of Input:', X.shape)"
      ],
      "execution_count": 2,
      "outputs": [
        {
          "output_type": "stream",
          "name": "stdout",
          "text": [
            "\n",
            "Input:\n",
            "tensor([[1., 0., 1., 0.],\n",
            "        [1., 0., 1., 1.],\n",
            "        [0., 1., 0., 1.]])\n",
            "\n",
            "Shape of Input: torch.Size([3, 4])\n"
          ]
        }
      ]
    },
    {
      "cell_type": "code",
      "metadata": {
        "id": "LVvQz5g39wo3",
        "outputId": "677f19c5-0cac-4aa4-ec49-ba5e56c58c17",
        "colab": {
          "base_uri": "https://localhost:8080/"
        }
      },
      "source": [
        "# converting the input in matrix form\n",
        "X = X.t()\n",
        "print('\\nInput in matrix form:')\n",
        "print(X)\n",
        "# shape of input matrix\n",
        "print('\\nShape of Input Matrix:', X.shape)"
      ],
      "execution_count": 3,
      "outputs": [
        {
          "output_type": "stream",
          "name": "stdout",
          "text": [
            "\n",
            "Input in matrix form:\n",
            "tensor([[1., 1., 0.],\n",
            "        [0., 0., 1.],\n",
            "        [1., 1., 0.],\n",
            "        [0., 1., 1.]])\n",
            "\n",
            "Shape of Input Matrix: torch.Size([4, 3])\n"
          ]
        }
      ]
    },
    {
      "cell_type": "code",
      "metadata": {
        "id": "IRe8JE0xNFSL",
        "outputId": "ce177e9f-e4aa-4030-edc5-08d9508d3298",
        "colab": {
          "base_uri": "https://localhost:8080/"
        }
      },
      "source": [
        "# creating the output tensor\n",
        "y = torch.tensor([[1],[1],[0]], dtype=torch.float)\n",
        "print ('\\nActual Output:')\n",
        "print(y)\n",
        "\n",
        "# output in matrix form\n",
        "y = y.t()\n",
        "\n",
        "print ('\\nOutput in matrix form:')\n",
        "print(y)\n",
        "\n",
        "# shape of input array\n",
        "print('\\nShape of Output:', y.shape)"
      ],
      "execution_count": 4,
      "outputs": [
        {
          "output_type": "stream",
          "name": "stdout",
          "text": [
            "\n",
            "Actual Output:\n",
            "tensor([[1.],\n",
            "        [1.],\n",
            "        [0.]])\n",
            "\n",
            "Output in matrix form:\n",
            "tensor([[1., 1., 0.]])\n",
            "\n",
            "Shape of Output: torch.Size([1, 3])\n"
          ]
        }
      ]
    },
    {
      "cell_type": "markdown",
      "metadata": {
        "id": "tKf4Ji1-NFSV"
      },
      "source": [
        "## 2. Architecture of the model (# input, hidden and output neurons)"
      ]
    },
    {
      "cell_type": "code",
      "metadata": {
        "id": "vlhBW0NNNFSg"
      },
      "source": [
        "inputlayer_neurons = X.shape[0] # number of features in data set\n",
        "hiddenlayer_neurons = 3 # number of hidden layers neurons\n",
        "output_neurons = 1 # number of neurons at output layer"
      ],
      "execution_count": 5,
      "outputs": []
    },
    {
      "cell_type": "markdown",
      "metadata": {
        "id": "OoOsLucmNFSo"
      },
      "source": [
        "![alt text](https://drive.google.com/uc?id=1zrEFVsc6bMQZ7fRxbK4DRceaG78k26Pc)"
      ]
    },
    {
      "cell_type": "markdown",
      "metadata": {
        "id": "_Nmwj8RfNFSr"
      },
      "source": [
        "## 3. Initializing the weights for all the layers\n",
        "\n",
        "NOTE: For simplicity, we are assuming that the bias for all the layers is 0"
      ]
    },
    {
      "cell_type": "code",
      "metadata": {
        "id": "1T1IG-W8NFSu"
      },
      "source": [
        "# initializing weights\n",
        "# Shape of w_ih should number of neurons at input layer X number of neurons at hidden layer\n",
        "w_ih=torch.randn(inputlayer_neurons,hiddenlayer_neurons)\n",
        "\n",
        "# Shape of w_ho should number of neurons at hidden layer X number of neurons at output layer\n",
        "w_ho=torch.randn(hiddenlayer_neurons,output_neurons)"
      ],
      "execution_count": 6,
      "outputs": []
    },
    {
      "cell_type": "code",
      "metadata": {
        "id": "Fpa1--9KNFS1",
        "outputId": "ffbe57c3-234d-4bc1-c961-ea8868ac3344",
        "colab": {
          "base_uri": "https://localhost:8080/"
        }
      },
      "source": [
        "# shape of weight matrix\n",
        "w_ih.shape, w_ho.shape"
      ],
      "execution_count": 7,
      "outputs": [
        {
          "output_type": "execute_result",
          "data": {
            "text/plain": [
              "(torch.Size([4, 3]), torch.Size([3, 1]))"
            ]
          },
          "metadata": {},
          "execution_count": 7
        }
      ]
    },
    {
      "cell_type": "markdown",
      "metadata": {
        "id": "srrDW1MNNFS-"
      },
      "source": [
        "## 4. Implementing forward propagation"
      ]
    },
    {
      "cell_type": "markdown",
      "metadata": {
        "id": "-g-SocwQNFTC"
      },
      "source": [
        "![alt text](https://drive.google.com/uc?id=1YwD7vY9k84vZmjmE5CXgQ69fYyadPsox)"
      ]
    },
    {
      "cell_type": "code",
      "metadata": {
        "id": "sOcBji4iNFTE"
      },
      "source": [
        "# We are using sigmoid as an activation function so defining the sigmoid function here\n",
        "\n",
        "# defining the Sigmoid Function\n",
        "def sigmoid(s):\n",
        "    return 1 / (1 + torch.exp(-s))"
      ],
      "execution_count": 8,
      "outputs": []
    },
    {
      "cell_type": "code",
      "metadata": {
        "id": "DO6AYHtGNFTM"
      },
      "source": [
        "# hidden layer activations\n",
        "hidden_layer_input=torch.matmul(w_ih.t(),X)\n",
        "hiddenlayer_activations = sigmoid(hidden_layer_input)"
      ],
      "execution_count": 9,
      "outputs": []
    },
    {
      "cell_type": "markdown",
      "metadata": {
        "id": "o8zzYX6pNFTT"
      },
      "source": [
        "![alt text](https://drive.google.com/uc?id=1ETMoLD1fwi5u1HHLqtAdVUs-P8HNOU_p)"
      ]
    },
    {
      "cell_type": "code",
      "metadata": {
        "id": "CuqKwiToNFTW"
      },
      "source": [
        "# calculating the output\n",
        "output_layer_input=torch.matmul(w_ho.t(),hiddenlayer_activations)\n",
        "output = sigmoid(output_layer_input)"
      ],
      "execution_count": 10,
      "outputs": []
    },
    {
      "cell_type": "code",
      "metadata": {
        "id": "BjPlMkVMNFTd",
        "outputId": "009de0bc-e224-4ba1-c8e5-9034e33e3257",
        "colab": {
          "base_uri": "https://localhost:8080/"
        }
      },
      "source": [
        "# output\n",
        "output"
      ],
      "execution_count": 11,
      "outputs": [
        {
          "output_type": "execute_result",
          "data": {
            "text/plain": [
              "tensor([[0.1381, 0.0917, 0.1687]])"
            ]
          },
          "metadata": {},
          "execution_count": 11
        }
      ]
    },
    {
      "cell_type": "markdown",
      "metadata": {
        "id": "mdFKMYyzNFTm"
      },
      "source": [
        "## 5. Implementing backward propagation"
      ]
    },
    {
      "cell_type": "markdown",
      "metadata": {
        "id": "c2m3XBgZNFTn"
      },
      "source": [
        "![alt text](https://drive.google.com/uc?id=1uYdg4mQL-B9o7BTOLnfoYUhh_LxTnpcW)"
      ]
    },
    {
      "cell_type": "code",
      "metadata": {
        "id": "IvUAAhlcNFTp"
      },
      "source": [
        "# calculating error\n",
        "error = torch.pow(y-output,2) /2"
      ],
      "execution_count": 12,
      "outputs": []
    },
    {
      "cell_type": "markdown",
      "metadata": {
        "id": "6TcwM4nwXQxs"
      },
      "source": [
        "## 1. Rate of change of error w.r.t. who\n",
        "## 2. Rate of change of error w.r.t. wih"
      ]
    },
    {
      "cell_type": "markdown",
      "metadata": {
        "id": "3H0vjBdNNFTw"
      },
      "source": [
        "### Rate of change of error w.r.t weight between hidden and output layer"
      ]
    },
    {
      "cell_type": "markdown",
      "metadata": {
        "id": "4cncCd1WNFTz"
      },
      "source": [
        "![alt text](https://drive.google.com/uc?id=1_KexjgVJGRptZ6t1eobTter3mfIGo9rs)"
      ]
    },
    {
      "cell_type": "markdown",
      "metadata": {
        "id": "DqrhlDeDNFT1"
      },
      "source": [
        "**a. Rate of change of error w.r.t output**\n",
        "\n",
        "**b. Rate of change of output w.r.t Z2**\n",
        "\n",
        "**c. Rate of change of Z2 w.r.t weights between hidden and output layer**"
      ]
    },
    {
      "cell_type": "markdown",
      "metadata": {
        "id": "gC9zQEH6HON5"
      },
      "source": [
        "![alt text](https://drive.google.com/uc?id=1VesmZOVpfgLFESvOFd7dE-YHNtSMMkvM)"
      ]
    },
    {
      "cell_type": "code",
      "metadata": {
        "id": "bKdk5m4FNFT3"
      },
      "source": [
        "# rate of change of error w.r.t. output\n",
        "error_wrt_output = -(y-output)\n",
        "\n",
        "# rate of change of output w.r.t. Z2\n",
        "output_wrt_Z2 =  torch.mul(output,(1-output))\n",
        "\n",
        "# rate of change of Z2 w.r.t. weights between hidden and output layer\n",
        "Z2_wrt_who = hiddenlayer_activations"
      ],
      "execution_count": 13,
      "outputs": []
    },
    {
      "cell_type": "code",
      "metadata": {
        "id": "l3HNVYGONFUr"
      },
      "source": [
        "# rate of change of error w.r.t weight between hidden and output layer\n",
        "error_wrt_who =  torch.matmul(Z2_wrt_who,(error_wrt_output*output_wrt_Z2).t())"
      ],
      "execution_count": 14,
      "outputs": []
    },
    {
      "cell_type": "markdown",
      "metadata": {
        "id": "sDFPg2SHNFU2"
      },
      "source": [
        "### Rate of change of error w.r.t weight between input and hidden layer"
      ]
    },
    {
      "cell_type": "markdown",
      "metadata": {
        "id": "_757MrjBNFU2"
      },
      "source": [
        "![alt text](https://drive.google.com/uc?id=1X4-iInwlv7ber3fwgtqHuHTuFRci-tMV)"
      ]
    },
    {
      "cell_type": "markdown",
      "metadata": {
        "id": "_nPYGXkeNFU4"
      },
      "source": [
        "**a. Rate of change of error w.r.t output**\n",
        "\n",
        "**b. Rate of change of output w.r.t Z2**\n",
        "\n",
        "**c. Rate of change of Z2 w.r.t hidden layer activations**\n",
        "\n",
        "**d. Rate of change of hidden layer activations w.r.t Z1**\n",
        "\n",
        "**e. Rate of change of Z1 w.r.t weights between input and hidden layer**"
      ]
    },
    {
      "cell_type": "markdown",
      "metadata": {
        "id": "gCeSm7vrHbHj"
      },
      "source": [
        "![alt text](https://drive.google.com/uc?id=1RkG5x1NEFWlF3tj0OlswOWvBcV5XNV1C)"
      ]
    },
    {
      "cell_type": "code",
      "metadata": {
        "id": "Sb7Ezxw9NFU6"
      },
      "source": [
        "# rate of change of error w.r.t. output\n",
        "error_wrt_output = -(y-output)\n",
        "\n",
        "# rate of change of output w.r.t. Z2\n",
        "output_wrt_Z2 = torch.mul(output,(1-output))\n",
        "\n",
        "# rate of change of Z2 w.r.t. hidden layer activations\n",
        "Z2_wrt_h1 = w_ho\n",
        "\n",
        "# rate of change of hidden layer activations w.r.t. Z1\n",
        "h1_wrt_Z1 = torch.mul(hiddenlayer_activations,(1-hiddenlayer_activations))\n",
        "\n",
        "# rate of change of Z1 w.r.t. weights between input and hidden layer\n",
        "Z1_wrt_wih = X"
      ],
      "execution_count": 15,
      "outputs": []
    },
    {
      "cell_type": "code",
      "metadata": {
        "id": "XTPNf3E5NFVs"
      },
      "source": [
        "# rate of change of error w.r.t weights between input and hidden layer\n",
        "error_wrt_wih =  torch.matmul(Z1_wrt_wih,(h1_wrt_Z1*torch.matmul(Z2_wrt_h1,(output_wrt_Z2*error_wrt_output))).t())"
      ],
      "execution_count": null,
      "outputs": []
    },
    {
      "cell_type": "markdown",
      "metadata": {
        "id": "W2bu4H5-NFVz"
      },
      "source": [
        "### Update the parameters"
      ]
    },
    {
      "cell_type": "markdown",
      "metadata": {
        "id": "-nmJnY_PNFV1"
      },
      "source": [
        "![alt text](https://drive.google.com/uc?id=1A5jaB3WjZx9yrJkk9imVEvP3PZodjapE)"
      ]
    },
    {
      "cell_type": "code",
      "metadata": {
        "id": "_r59xEpINFV2"
      },
      "source": [
        "# defining the learning rate\n",
        "lr = 0.01"
      ],
      "execution_count": 16,
      "outputs": []
    },
    {
      "cell_type": "code",
      "metadata": {
        "id": "aiBFNXd3NFV7",
        "outputId": "c9250c6f-467d-45b5-acba-f34e4f9c6daf",
        "colab": {
          "base_uri": "https://localhost:8080/"
        }
      },
      "source": [
        "# initial w_ho and w_ih\n",
        "w_ho"
      ],
      "execution_count": 17,
      "outputs": [
        {
          "output_type": "execute_result",
          "data": {
            "text/plain": [
              "tensor([[-0.5958],\n",
              "        [-0.8622],\n",
              "        [-2.1509]])"
            ]
          },
          "metadata": {},
          "execution_count": 17
        }
      ]
    },
    {
      "cell_type": "code",
      "metadata": {
        "id": "CuosFKUENFWB",
        "outputId": "81291288-730d-4aef-c6b6-227edfe2d49e",
        "scrolled": true,
        "colab": {
          "base_uri": "https://localhost:8080/"
        }
      },
      "source": [
        "w_ih"
      ],
      "execution_count": 18,
      "outputs": [
        {
          "output_type": "execute_result",
          "data": {
            "text/plain": [
              "tensor([[ 0.9897, -0.6902, -0.2333],\n",
              "        [ 1.3598, -0.4068, -1.5904],\n",
              "        [-0.6813, -0.2911,  0.5662],\n",
              "        [-0.2552,  0.9028,  0.6677]])"
            ]
          },
          "metadata": {},
          "execution_count": 18
        }
      ]
    },
    {
      "cell_type": "code",
      "metadata": {
        "id": "D_Va2xywNFWF"
      },
      "source": [
        "# updating the weights of output layer\n",
        "w_ho = w_ho - lr * error_wrt_who"
      ],
      "execution_count": 19,
      "outputs": []
    },
    {
      "cell_type": "code",
      "metadata": {
        "id": "ruFlc96BNFWL"
      },
      "source": [
        "# updating the weights of hidden layer\n",
        "error_wrt_wih =  torch.matmul(Z1_wrt_wih,(h1_wrt_Z1*torch.matmul(Z2_wrt_h1,(error_wrt_output*output_wrt_Z2))).t())"
      ],
      "execution_count": 21,
      "outputs": []
    },
    {
      "cell_type": "code",
      "metadata": {
        "id": "NTf4nS1xNFWP",
        "outputId": "acc76117-420b-416e-919a-897245bc141f",
        "colab": {
          "base_uri": "https://localhost:8080/"
        }
      },
      "source": [
        "# updated w_ho and w_ih\n",
        "w_ho"
      ],
      "execution_count": 22,
      "outputs": [
        {
          "output_type": "execute_result",
          "data": {
            "text/plain": [
              "tensor([[-0.5950],\n",
              "        [-0.8618],\n",
              "        [-2.1499]])"
            ]
          },
          "metadata": {},
          "execution_count": 22
        }
      ]
    },
    {
      "cell_type": "code",
      "metadata": {
        "id": "7VYNPPNlNFWU",
        "outputId": "18b0ca70-ea7e-41a3-8300-598aba53bf78",
        "colab": {
          "base_uri": "https://localhost:8080/"
        }
      },
      "source": [
        "w_ih"
      ],
      "execution_count": 23,
      "outputs": [
        {
          "output_type": "execute_result",
          "data": {
            "text/plain": [
              "tensor([[ 0.9897, -0.6902, -0.2333],\n",
              "        [ 1.3598, -0.4068, -1.5904],\n",
              "        [-0.6813, -0.2911,  0.5662],\n",
              "        [-0.2552,  0.9028,  0.6677]])"
            ]
          },
          "metadata": {},
          "execution_count": 23
        }
      ]
    },
    {
      "cell_type": "markdown",
      "metadata": {
        "id": "SxLy6DZlNFWY"
      },
      "source": [
        "## 6. Training the model for n epochs"
      ]
    },
    {
      "cell_type": "code",
      "metadata": {
        "id": "8HKS9vIyNFWZ"
      },
      "source": [
        "# defining the model architecture\n",
        "inputlayer_neurons = X.shape[0] # number of features in data set\n",
        "hiddenlayer_neurons = 3 # number of hidden layers neurons\n",
        "output_neurons = 1 # number of neurons at output layer\n",
        "\n",
        "# initializing weight\n",
        "w_ih=torch.randn(inputlayer_neurons,hiddenlayer_neurons, dtype=torch.float)\n",
        "w_ho=torch.randn(hiddenlayer_neurons,output_neurons, dtype=torch.float)\n",
        "\n",
        "# defining the parameters\n",
        "lr = 0.01\n",
        "epochs = 10000"
      ],
      "execution_count": 24,
      "outputs": []
    },
    {
      "cell_type": "code",
      "metadata": {
        "id": "ojybM51LNFWc",
        "outputId": "68e37aac-cc7f-4bb5-cd12-636a8326eaca",
        "colab": {
          "base_uri": "https://localhost:8080/"
        }
      },
      "source": [
        "# initial w_ih and w_ho\n",
        "w_ih"
      ],
      "execution_count": 25,
      "outputs": [
        {
          "output_type": "execute_result",
          "data": {
            "text/plain": [
              "tensor([[-0.6960, -1.0498, -0.3734],\n",
              "        [-0.8942,  0.2363, -0.1473],\n",
              "        [ 0.1067, -0.1396,  0.6878],\n",
              "        [-0.8233,  0.7117, -1.5276]])"
            ]
          },
          "metadata": {},
          "execution_count": 25
        }
      ]
    },
    {
      "cell_type": "code",
      "metadata": {
        "id": "1RS_d3kdNFWg",
        "outputId": "8a4e203b-cc9f-4b2b-8cc0-45229c752b51",
        "colab": {
          "base_uri": "https://localhost:8080/"
        }
      },
      "source": [
        "w_ho"
      ],
      "execution_count": 26,
      "outputs": [
        {
          "output_type": "execute_result",
          "data": {
            "text/plain": [
              "tensor([[ 0.9364],\n",
              "        [-1.2063],\n",
              "        [ 0.4816]])"
            ]
          },
          "metadata": {},
          "execution_count": 26
        }
      ]
    },
    {
      "cell_type": "code",
      "metadata": {
        "id": "_yVAcyW_NFWk"
      },
      "source": [
        "error_epoch = []\n",
        "for i in range(epochs):\n",
        "    # Forward Propogation\n",
        "\n",
        "    # hidden layer activations\n",
        "    hidden_layer_input= torch.matmul(w_ih.t(),X)\n",
        "    hiddenlayer_activations = sigmoid(hidden_layer_input)\n",
        "    # calculating the output\n",
        "    output_layer_input= torch.matmul(w_ho.t(),hiddenlayer_activations)\n",
        "    output = sigmoid(output_layer_input)\n",
        "\n",
        "\n",
        "    # Backward Propagation\n",
        "\n",
        "    # calculating error\n",
        "    error = (y-output)*(y-output)/2\n",
        "    error_wrt_output = -(y-output)\n",
        "    output_wrt_Z2 = torch.mul(output,(1-output))\n",
        "    Z2_wrt_who = hiddenlayer_activations\n",
        "    # rate of change of error w.r.t weight between hidden and output layer\n",
        "    error_wrt_who =  torch.matmul(Z2_wrt_who,(error_wrt_output*output_wrt_Z2).t())\n",
        "    Z2_wrt_h1 = w_ho\n",
        "    h1_wrt_Z1 = torch.mul(hiddenlayer_activations,(1-hiddenlayer_activations))\n",
        "    Z1_wrt_wih = X\n",
        "    # rate of change of error w.r.t weights between input and hidden layer\n",
        "    error_wrt_wih =  torch.matmul(Z1_wrt_wih,(h1_wrt_Z1*torch.matmul(Z2_wrt_h1,(error_wrt_output*output_wrt_Z2))).t())\n",
        "\n",
        "    # updating the weights between hidden and output layer\n",
        "    w_ho = w_ho - lr * error_wrt_who\n",
        "    # updating the weights between input and hidden layer\n",
        "    w_ih = w_ih - lr * error_wrt_wih\n",
        "\n",
        "    # appending the error of each epoch\n",
        "    error_epoch.append(torch.mean(error))"
      ],
      "execution_count": 27,
      "outputs": []
    },
    {
      "cell_type": "code",
      "metadata": {
        "id": "Ra5mTgwUNFWo",
        "outputId": "98b00157-f7ad-4383-983c-bc4fe819927f",
        "colab": {
          "base_uri": "https://localhost:8080/"
        }
      },
      "source": [
        "# updated w_ih and w_ho\n",
        "w_ih"
      ],
      "execution_count": 28,
      "outputs": [
        {
          "output_type": "execute_result",
          "data": {
            "text/plain": [
              "tensor([[ 0.4841, -1.9002,  0.5171],\n",
              "        [-1.5177,  1.1370, -0.6527],\n",
              "        [ 1.2867, -0.9901,  1.5782],\n",
              "        [-0.5890,  0.9394, -1.3452]])"
            ]
          },
          "metadata": {},
          "execution_count": 28
        }
      ]
    },
    {
      "cell_type": "code",
      "metadata": {
        "id": "Ctoll6QufYfu",
        "outputId": "206fe227-66e1-405c-c8a5-8fe7a53f51f5",
        "colab": {
          "base_uri": "https://localhost:8080/"
        }
      },
      "source": [
        "w_ho"
      ],
      "execution_count": 29,
      "outputs": [
        {
          "output_type": "execute_result",
          "data": {
            "text/plain": [
              "tensor([[ 2.2734],\n",
              "        [-3.0321],\n",
              "        [ 1.8472]])"
            ]
          },
          "metadata": {},
          "execution_count": 29
        }
      ]
    },
    {
      "cell_type": "code",
      "metadata": {
        "id": "WeN2dcc0NFW8",
        "outputId": "182e251f-3b7d-4c63-e952-d599cbad3d6b",
        "scrolled": true,
        "colab": {
          "base_uri": "https://localhost:8080/",
          "height": 448
        }
      },
      "source": [
        "# visualizing the error after each epoch\n",
        "plt.plot(torch.arange(1,epochs+1).numpy(), torch.Tensor(error_epoch).numpy())"
      ],
      "execution_count": 30,
      "outputs": [
        {
          "output_type": "execute_result",
          "data": {
            "text/plain": [
              "[<matplotlib.lines.Line2D at 0x78bd02fb46d0>]"
            ]
          },
          "metadata": {},
          "execution_count": 30
        },
        {
          "output_type": "display_data",
          "data": {
            "text/plain": [
              "<Figure size 640x480 with 1 Axes>"
            ],
            "image/png": "[encoded data removed]"
          },
          "metadata": {}
        }
      ]
    },
    {
      "cell_type": "code",
      "metadata": {
        "id": "bJlcGoeUNFXA",
        "outputId": "6c6e10a7-eb31-4b98-9dfb-c0c8b9a951e3",
        "colab": {
          "base_uri": "https://localhost:8080/"
        }
      },
      "source": [
        "# final output from the model\n",
        "output"
      ],
      "execution_count": 31,
      "outputs": [
        {
          "output_type": "execute_result",
          "data": {
            "text/plain": [
              "tensor([[0.9686, 0.9319, 0.0973]])"
            ]
          },
          "metadata": {},
          "execution_count": 31
        }
      ]
    },
    {
      "cell_type": "code",
      "metadata": {
        "id": "ARNn3MiKNFXF",
        "outputId": "d5116e1c-e6a6-431e-cc5a-14402b6cdbda",
        "colab": {
          "base_uri": "https://localhost:8080/"
        }
      },
      "source": [
        "# actual target\n",
        "y"
      ],
      "execution_count": 32,
      "outputs": [
        {
          "output_type": "execute_result",
          "data": {
            "text/plain": [
              "tensor([[1., 1., 0.]])"
            ]
          },
          "metadata": {},
          "execution_count": 32
        }
      ]
    },
    {
      "cell_type": "code",
      "metadata": {
        "id": "MtwXl0bjNFXJ",
        "outputId": "70cdaabc-b825-47d2-c178-f42c386a74b6",
        "colab": {
          "base_uri": "https://localhost:8080/"
        }
      },
      "source": [
        "# error at last epoch\n",
        "error"
      ],
      "execution_count": 33,
      "outputs": [
        {
          "output_type": "execute_result",
          "data": {
            "text/plain": [
              "tensor([[0.0005, 0.0023, 0.0047]])"
            ]
          },
          "metadata": {},
          "execution_count": 33
        }
      ]
    },
    {
      "cell_type": "code",
      "metadata": {
        "id": "P7eRbHZnOBz3"
      },
      "source": [],
      "execution_count": null,
      "outputs": []
    }
  ]
}