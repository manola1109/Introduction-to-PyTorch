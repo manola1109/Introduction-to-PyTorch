{
  "nbformat": 4,
  "nbformat_minor": 0,
  "metadata": {
    "colab": {
      "provenance": [],
      "include_colab_link": true
    },
    "kernelspec": {
      "name": "python3",
      "display_name": "Python 3"
    },
    "accelerator": "GPU"
  },
  "cells": [
    {
      "cell_type": "markdown",
      "metadata": {
        "id": "view-in-github",
        "colab_type": "text"
      },
      "source": [
        "<a href=\"https://colab.research.google.com/github/manola1109/Introduction-to-PyTorch/blob/main/Mathematical_and_Matrix_operations_in_PyTorch.ipynb\" target=\"_parent\"><img src=\"https://colab.research.google.com/assets/colab-badge.svg\" alt=\"Open In Colab\"/></a>"
      ]
    },
    {
      "cell_type": "markdown",
      "metadata": {
        "id": "axNwiZFRXSnh"
      },
      "source": [
        "## Agenda for the Notebook\n",
        "\n",
        "1. Initializing Tensors\n",
        "    \n",
        "    <ol>1.1 Initializing 1D tensor</ol>\n",
        "\n",
        "    <ol>1.2 Initializing 2D tensor</ol>\n",
        "\n",
        "    <ol>1.3 Initializing 3D tensor</ol>\n",
        "\n",
        "    <ol>1.4 Randomly initializing tensors</ol>\n",
        "\n",
        "2. Mathematical Operations in PyTorch\n",
        "\n",
        "3. Matrix Operations in PyTorch\n",
        "    \n",
        "    <ol>3.1 Matrix addition</ol>\n",
        "\n",
        "    <ol>3.2 Matrix subtraction</ol>\n",
        "\n",
        "    <ol>3.3 Matrix multiplication</ol>\n",
        "\n",
        "    <ol>3.4 Matrix division</ol>\n",
        "\n",
        "    <ol>3.5 Transpose of a matrix</ol>\n",
        "\n",
        "    <ol>3.6 Reshaping 2d tensors</ol>\n",
        "\n",
        "4. Converting NumPy arrays to PyTorch Tensors\n",
        "\n",
        "4. Converting PyTorch Tensors to NumPy array\n",
        "\n",
        "4. Using tensor on GPU"
      ]
    },
    {
      "cell_type": "markdown",
      "metadata": {
        "id": "tFxmOcOuGluZ"
      },
      "source": [
        "## 1. Initializing Tensors"
      ]
    },
    {
      "cell_type": "code",
      "metadata": {
        "id": "m_a1H1iY5wbe",
        "outputId": "045ea90d-842a-499f-b1f2-52bea8403963",
        "colab": {
          "base_uri": "https://localhost:8080/"
        }
      },
      "source": [
        "# importing PyTorch library and checking its version\n",
        "import torch\n",
        "print(torch.__version__)"
      ],
      "execution_count": 1,
      "outputs": [
        {
          "output_type": "stream",
          "name": "stdout",
          "text": [
            "2.6.0+cu124\n"
          ]
        }
      ]
    },
    {
      "cell_type": "markdown",
      "metadata": {
        "id": "PyVCzbUnmd5P"
      },
      "source": [
        "### 1.1 Initializing a 1D tensor"
      ]
    },
    {
      "cell_type": "code",
      "metadata": {
        "id": "z6-iZ0GT7RMv",
        "outputId": "0a9251d5-fbb1-44f9-f09c-3055cd1791fb",
        "colab": {
          "base_uri": "https://localhost:8080/"
        }
      },
      "source": [
        "# initializing a 1D tensor\n",
        "one_d_tensor = torch.tensor([1])\n",
        "print(one_d_tensor)"
      ],
      "execution_count": 2,
      "outputs": [
        {
          "output_type": "stream",
          "name": "stdout",
          "text": [
            "tensor([1])\n"
          ]
        }
      ]
    },
    {
      "cell_type": "code",
      "metadata": {
        "id": "omnIpJQb8QUT",
        "outputId": "a3e4fca0-7f08-489e-bc5d-f6eefe148e53",
        "colab": {
          "base_uri": "https://localhost:8080/"
        }
      },
      "source": [
        "# type of initialized tensor\n",
        "type(one_d_tensor)"
      ],
      "execution_count": 3,
      "outputs": [
        {
          "output_type": "execute_result",
          "data": {
            "text/plain": [
              "torch.Tensor"
            ]
          },
          "metadata": {},
          "execution_count": 3
        }
      ]
    },
    {
      "cell_type": "code",
      "metadata": {
        "id": "l4OJTtSav05t",
        "outputId": "1da544b9-fa96-4057-9dc9-f708bf533f37",
        "colab": {
          "base_uri": "https://localhost:8080/"
        }
      },
      "source": [
        "# data type of the tensor\n",
        "one_d_tensor.dtype"
      ],
      "execution_count": 4,
      "outputs": [
        {
          "output_type": "execute_result",
          "data": {
            "text/plain": [
              "torch.int64"
            ]
          },
          "metadata": {},
          "execution_count": 4
        }
      ]
    },
    {
      "cell_type": "markdown",
      "metadata": {
        "id": "dOPRTounv7hN"
      },
      "source": [
        "Refer this documentation to look at different data types supported by torch: https://pytorch.org/docs/stable/tensors.html"
      ]
    },
    {
      "cell_type": "code",
      "metadata": {
        "id": "wYTt-Ae3ZUka",
        "outputId": "1783fc0c-e6e8-4c9d-d412-8a687e2d2ee6",
        "colab": {
          "base_uri": "https://localhost:8080/"
        }
      },
      "source": [
        "# shape of 1d tensor\n",
        "one_d_tensor.shape"
      ],
      "execution_count": 5,
      "outputs": [
        {
          "output_type": "execute_result",
          "data": {
            "text/plain": [
              "torch.Size([1])"
            ]
          },
          "metadata": {},
          "execution_count": 5
        }
      ]
    },
    {
      "cell_type": "markdown",
      "metadata": {
        "id": "9sOFoc5dnW1U"
      },
      "source": [
        "### 1.2 Initializing 2D tensor"
      ]
    },
    {
      "cell_type": "code",
      "metadata": {
        "id": "LfykS8Z3nWj5",
        "outputId": "24f65a4f-9a06-4b26-bd36-fc1d7367fb89",
        "colab": {
          "base_uri": "https://localhost:8080/"
        }
      },
      "source": [
        "# initializing a 1D tensor\n",
        "two_d_tensor = torch.tensor([[1, 2], [3, 4]])\n",
        "print(two_d_tensor)"
      ],
      "execution_count": 6,
      "outputs": [
        {
          "output_type": "stream",
          "name": "stdout",
          "text": [
            "tensor([[1, 2],\n",
            "        [3, 4]])\n"
          ]
        }
      ]
    },
    {
      "cell_type": "code",
      "metadata": {
        "id": "ebgoTDALnWg3",
        "outputId": "cf35542d-432d-4731-9246-3cb6ac0d1eea",
        "colab": {
          "base_uri": "https://localhost:8080/"
        }
      },
      "source": [
        "# shape of 2d tensor\n",
        "two_d_tensor.shape"
      ],
      "execution_count": 7,
      "outputs": [
        {
          "output_type": "execute_result",
          "data": {
            "text/plain": [
              "torch.Size([2, 2])"
            ]
          },
          "metadata": {},
          "execution_count": 7
        }
      ]
    },
    {
      "cell_type": "markdown",
      "metadata": {
        "id": "LQiOn44doY1f"
      },
      "source": [
        "### 1.3 Initializing a 3D tensor"
      ]
    },
    {
      "cell_type": "code",
      "metadata": {
        "id": "aBW2n6uPoYZE",
        "outputId": "b5445de4-83c5-4281-d18e-5c076ef43025",
        "colab": {
          "base_uri": "https://localhost:8080/"
        }
      },
      "source": [
        "# initializing a 1D tensor\n",
        "three_d_tensor = torch.tensor([[[1, 2, 3], [4, 5, 6], [7, 8, 9]],\n",
        "                               [[10, 11, 12], [13, 14, 15], [16, 17, 18]]])\n",
        "print(three_d_tensor)"
      ],
      "execution_count": 8,
      "outputs": [
        {
          "output_type": "stream",
          "name": "stdout",
          "text": [
            "tensor([[[ 1,  2,  3],\n",
            "         [ 4,  5,  6],\n",
            "         [ 7,  8,  9]],\n",
            "\n",
            "        [[10, 11, 12],\n",
            "         [13, 14, 15],\n",
            "         [16, 17, 18]]])\n"
          ]
        }
      ]
    },
    {
      "cell_type": "code",
      "metadata": {
        "id": "Ou0REhwZnVl8",
        "outputId": "91765d41-2994-4371-c234-a3a2d931e902",
        "colab": {
          "base_uri": "https://localhost:8080/"
        }
      },
      "source": [
        "# shape of 3d tensor\n",
        "three_d_tensor.shape"
      ],
      "execution_count": 9,
      "outputs": [
        {
          "output_type": "execute_result",
          "data": {
            "text/plain": [
              "torch.Size([2, 3, 3])"
            ]
          },
          "metadata": {},
          "execution_count": 9
        }
      ]
    },
    {
      "cell_type": "markdown",
      "metadata": {
        "id": "UKYsBBeLEQYj"
      },
      "source": [
        "![alt text](https://drive.google.com/uc?id=1V5UH7i_qjdHsuj_B1gluYVPRNG2wiK21)"
      ]
    },
    {
      "cell_type": "markdown",
      "metadata": {
        "id": "5tN8xnHFqMJZ"
      },
      "source": [
        "### 1.4 Randomly initializing tensors"
      ]
    },
    {
      "cell_type": "code",
      "metadata": {
        "id": "XaPD3KJAq_8l",
        "outputId": "851a7ed7-639c-4499-b2f2-3e97c89056fa",
        "colab": {
          "base_uri": "https://localhost:8080/"
        }
      },
      "source": [
        "# setting the random seed for PyTorch\n",
        "# torch.manual_seed(42)\n",
        "# 1d tensor of random numbers\n",
        "random_1d_tensor = torch.randn(3)\n",
        "random_1d_tensor"
      ],
      "execution_count": 10,
      "outputs": [
        {
          "output_type": "execute_result",
          "data": {
            "text/plain": [
              "tensor([ 0.8117,  0.0983, -0.3001])"
            ]
          },
          "metadata": {},
          "execution_count": 10
        }
      ]
    },
    {
      "cell_type": "code",
      "metadata": {
        "id": "hdnaFKytqCHn",
        "outputId": "1d34b949-ecb1-444a-abe9-5a53acca6a8b",
        "colab": {
          "base_uri": "https://localhost:8080/"
        }
      },
      "source": [
        "# setting the random seed for PyTorch\n",
        "torch.manual_seed(42)\n",
        "# 2d tensor of random numbers\n",
        "random_2d_tensor = torch.randn(3,3)\n",
        "random_2d_tensor"
      ],
      "execution_count": 11,
      "outputs": [
        {
          "output_type": "execute_result",
          "data": {
            "text/plain": [
              "tensor([[ 0.3367,  0.1288,  0.2345],\n",
              "        [ 0.2303, -1.1229, -0.1863],\n",
              "        [ 2.2082, -0.6380,  0.4617]])"
            ]
          },
          "metadata": {},
          "execution_count": 11
        }
      ]
    },
    {
      "cell_type": "code",
      "metadata": {
        "id": "IFcinrHkq0IZ",
        "outputId": "37c066ca-ba7a-4952-96c3-b6e5156188d1",
        "colab": {
          "base_uri": "https://localhost:8080/"
        }
      },
      "source": [
        "# setting the random seed for PyTorch\n",
        "torch.manual_seed(42)\n",
        "# 3d tensor of random numbers\n",
        "random_3d_tensor = torch.randn(2,3,3)\n",
        "random_3d_tensor"
      ],
      "execution_count": 12,
      "outputs": [
        {
          "output_type": "execute_result",
          "data": {
            "text/plain": [
              "tensor([[[ 1.9269,  1.4873, -0.4974],\n",
              "         [ 0.4396, -0.7581,  1.0783],\n",
              "         [ 0.8008,  1.6806,  0.3559]],\n",
              "\n",
              "        [[-0.6866,  0.6105,  1.3347],\n",
              "         [-0.2316,  0.0418, -0.2516],\n",
              "         [ 0.8599, -0.3097, -0.3957]]])"
            ]
          },
          "metadata": {},
          "execution_count": 12
        }
      ]
    },
    {
      "cell_type": "markdown",
      "metadata": {
        "id": "q-fHkIM68ZDt"
      },
      "source": [
        "## 2. Mathematical Operations in PyTorch"
      ]
    },
    {
      "cell_type": "code",
      "metadata": {
        "id": "Xww_Ili68Vsc",
        "outputId": "9df2f279-7e40-4b58-db5e-4d27b2579791",
        "colab": {
          "base_uri": "https://localhost:8080/"
        }
      },
      "source": [
        "# initializing two tensors\n",
        "a = torch.tensor(2)\n",
        "b = torch.tensor(1)\n",
        "print(a,b)"
      ],
      "execution_count": 13,
      "outputs": [
        {
          "output_type": "stream",
          "name": "stdout",
          "text": [
            "tensor(2) tensor(1)\n"
          ]
        }
      ]
    },
    {
      "cell_type": "code",
      "metadata": {
        "id": "ID15e2h0_uk4",
        "outputId": "c50781f2-416b-4cae-dbcd-d0eb6d14481a",
        "colab": {
          "base_uri": "https://localhost:8080/"
        }
      },
      "source": [
        "# addition\n",
        "print(a+b)\n",
        "\n",
        "# subtraction\n",
        "print(b-a)\n",
        "\n",
        "# multiplication\n",
        "print(a*b)\n",
        "\n",
        "# division\n",
        "print(a/b)"
      ],
      "execution_count": 14,
      "outputs": [
        {
          "output_type": "stream",
          "name": "stdout",
          "text": [
            "tensor(3)\n",
            "tensor(-1)\n",
            "tensor(2)\n",
            "tensor(2.)\n"
          ]
        }
      ]
    },
    {
      "cell_type": "markdown",
      "metadata": {
        "id": "wVFhWgOZAFF-"
      },
      "source": [
        "## 3. Matrix Operations in PyTorch"
      ]
    },
    {
      "cell_type": "code",
      "metadata": {
        "id": "MLQfya3SHkFt"
      },
      "source": [
        "# setting the random seed for pytorch and initializing two 2d tensors\n",
        "torch.manual_seed(42)\n",
        "a = torch.randn(3,3)\n",
        "b = torch.randn(3,3)"
      ],
      "execution_count": 15,
      "outputs": []
    },
    {
      "cell_type": "code",
      "metadata": {
        "id": "j6hHA20ariLR",
        "outputId": "616a59f6-b809-4e49-d6dc-fadfe3a3395e",
        "colab": {
          "base_uri": "https://localhost:8080/"
        }
      },
      "source": [
        "# printing first matrix\n",
        "print(a)"
      ],
      "execution_count": 16,
      "outputs": [
        {
          "output_type": "stream",
          "name": "stdout",
          "text": [
            "tensor([[ 0.3367,  0.1288,  0.2345],\n",
            "        [ 0.2303, -1.1229, -0.1863],\n",
            "        [ 2.2082, -0.6380,  0.4617]])\n"
          ]
        }
      ]
    },
    {
      "cell_type": "code",
      "metadata": {
        "id": "r5MO-ZZvrmEZ",
        "outputId": "f72cfe9a-c32a-4000-97d5-d66cdbaa47df",
        "colab": {
          "base_uri": "https://localhost:8080/"
        }
      },
      "source": [
        "# printing second matrix\n",
        "print(b)"
      ],
      "execution_count": 17,
      "outputs": [
        {
          "output_type": "stream",
          "name": "stdout",
          "text": [
            "tensor([[ 0.2674,  0.5349,  0.8094],\n",
            "        [ 1.1103, -1.6898, -0.9890],\n",
            "        [ 0.9580,  1.3221,  0.8172]])\n"
          ]
        }
      ]
    },
    {
      "cell_type": "markdown",
      "metadata": {
        "id": "MISPxCbErWm0"
      },
      "source": [
        "### 3.1 Matrix addition"
      ]
    },
    {
      "cell_type": "code",
      "metadata": {
        "id": "oiGB7IOxrbRn",
        "outputId": "2334a0fd-8f71-4b77-8f2c-111d83347ccb",
        "colab": {
          "base_uri": "https://localhost:8080/"
        }
      },
      "source": [
        "# adding two matrices using torch.add\n",
        "addition = torch.add(a,b)\n",
        "print(addition)"
      ],
      "execution_count": 18,
      "outputs": [
        {
          "output_type": "stream",
          "name": "stdout",
          "text": [
            "tensor([[ 0.6040,  0.6637,  1.0438],\n",
            "        [ 1.3406, -2.8127, -1.1753],\n",
            "        [ 3.1662,  0.6841,  1.2788]])\n"
          ]
        }
      ]
    },
    {
      "cell_type": "markdown",
      "metadata": {
        "id": "DnMkC0Njr64D"
      },
      "source": [
        "### 3.2 Matrix subtraction"
      ]
    },
    {
      "cell_type": "code",
      "metadata": {
        "id": "oWNCUGpXrbPC",
        "outputId": "c3313f2e-4ed2-40a6-d8b8-5232146a4fbc",
        "colab": {
          "base_uri": "https://localhost:8080/"
        }
      },
      "source": [
        "# subtracting one matrix from the other using torch.sub\n",
        "subtraction = torch.sub(a,b)\n",
        "print(subtraction)"
      ],
      "execution_count": 19,
      "outputs": [
        {
          "output_type": "stream",
          "name": "stdout",
          "text": [
            "tensor([[ 0.0693, -0.4061, -0.5749],\n",
            "        [-0.8800,  0.5669,  0.8026],\n",
            "        [ 1.2502, -1.9601, -0.3555]])\n"
          ]
        }
      ]
    },
    {
      "cell_type": "markdown",
      "metadata": {
        "id": "4w0m19KYsm_A"
      },
      "source": [
        "### 3.3 Matrix Multiplication"
      ]
    },
    {
      "cell_type": "code",
      "metadata": {
        "id": "-eeSm5F2rbJl",
        "outputId": "5aee4515-522e-49cf-bc7b-1269d79b1ad1",
        "colab": {
          "base_uri": "https://localhost:8080/"
        }
      },
      "source": [
        "# matrix multiplication using torch.mm\n",
        "# this is similar to dot product\n",
        "\n",
        "dot_product = torch.mm(a,b)\n",
        "print(dot_product)"
      ],
      "execution_count": 20,
      "outputs": [
        {
          "output_type": "stream",
          "name": "stdout",
          "text": [
            "tensor([[ 0.4576,  0.2724,  0.3367],\n",
            "        [-1.3636,  1.7743,  1.1446],\n",
            "        [ 0.3243,  2.8696,  2.7954]])\n"
          ]
        }
      ]
    },
    {
      "cell_type": "markdown",
      "metadata": {
        "id": "B8ynzyNcTA7i"
      },
      "source": [
        "**NOTE:**\n",
        "\n",
        "If first input is a (pxq) tensor and second input is a (qxr) tensor, output will be a (pxr) tensor."
      ]
    },
    {
      "cell_type": "code",
      "metadata": {
        "id": "FzAwIA9Lu54L",
        "outputId": "ac4f2324-7b3c-408f-f3cb-c35a2eeb48e3",
        "colab": {
          "base_uri": "https://localhost:8080/"
        }
      },
      "source": [
        "# matrix multiplication using torch.matmul\n",
        "\n",
        "matrix_multiplication = torch.matmul(a,b)\n",
        "print(matrix_multiplication)"
      ],
      "execution_count": 21,
      "outputs": [
        {
          "output_type": "stream",
          "name": "stdout",
          "text": [
            "tensor([[ 0.4576,  0.2724,  0.3367],\n",
            "        [-1.3636,  1.7743,  1.1446],\n",
            "        [ 0.3243,  2.8696,  2.7954]])\n"
          ]
        }
      ]
    },
    {
      "cell_type": "markdown",
      "metadata": {
        "id": "d04HRX5VvTd4"
      },
      "source": [
        "**NOTE:**\n",
        "\n",
        "torch.mm performs matrix product of two tensors. The behavior depends on the dimensionality of the tensors as follows:\n",
        "\n",
        "\n",
        "*   If both tensors are 1-dimensional, the dot product (scalar) is returned.\n",
        "*   If both arguments are 2-dimensional, the matrix-matrix product is returned.\n",
        "\n",
        "For more details on this, refer the official documentation of torch.matmul: https://pytorch.org/docs/stable/torch.html#torch.matmul"
      ]
    },
    {
      "cell_type": "code",
      "metadata": {
        "id": "_5WIOCfMtMoH",
        "outputId": "19dd98d1-2eff-4bee-8819-78352ec18f4f",
        "colab": {
          "base_uri": "https://localhost:8080/"
        }
      },
      "source": [
        "# matrix multiplication using torch.mul\n",
        "# this performs elementwise multiplication\n",
        "\n",
        "elementwise_multiplication = torch.mul(a,b)\n",
        "print(elementwise_multiplication)"
      ],
      "execution_count": 22,
      "outputs": [
        {
          "output_type": "stream",
          "name": "stdout",
          "text": [
            "tensor([[ 0.0900,  0.0689,  0.1898],\n",
            "        [ 0.2557,  1.8974,  0.1843],\n",
            "        [ 2.1154, -0.8435,  0.3773]])\n"
          ]
        }
      ]
    },
    {
      "cell_type": "markdown",
      "metadata": {
        "id": "DLEPdo9RwPK-"
      },
      "source": [
        "### 3.4 Matrix division"
      ]
    },
    {
      "cell_type": "code",
      "metadata": {
        "id": "MC7O7h_VtMeX",
        "outputId": "ef509655-a8b1-4bf2-a138-e32e759a51fb",
        "colab": {
          "base_uri": "https://localhost:8080/"
        }
      },
      "source": [
        "# dividing one matrix by the other using torch.div\n",
        "division = torch.div(a,b)\n",
        "print(division)"
      ],
      "execution_count": 23,
      "outputs": [
        {
          "output_type": "stream",
          "name": "stdout",
          "text": [
            "tensor([[ 1.2594,  0.2408,  0.2897],\n",
            "        [ 0.2075,  0.6645,  0.1884],\n",
            "        [ 2.3051, -0.4826,  0.5649]])\n"
          ]
        }
      ]
    },
    {
      "cell_type": "markdown",
      "metadata": {
        "id": "qx7VeauyYWY3"
      },
      "source": [
        "### 3.5 Transpose of a matrix"
      ]
    },
    {
      "cell_type": "code",
      "metadata": {
        "id": "kNOsYDXZTAMo",
        "outputId": "f8ffb017-c44c-42bf-eac7-cfaa3d5d20cb",
        "colab": {
          "base_uri": "https://localhost:8080/"
        }
      },
      "source": [
        "# calculating the transpose of a 2d tensor in PyTorch\n",
        "# original matrix\n",
        "print(a, '\\n')\n",
        "\n",
        "# matrix transpose\n",
        "torch.t(a)"
      ],
      "execution_count": 24,
      "outputs": [
        {
          "output_type": "stream",
          "name": "stdout",
          "text": [
            "tensor([[ 0.3367,  0.1288,  0.2345],\n",
            "        [ 0.2303, -1.1229, -0.1863],\n",
            "        [ 2.2082, -0.6380,  0.4617]]) \n",
            "\n"
          ]
        },
        {
          "output_type": "execute_result",
          "data": {
            "text/plain": [
              "tensor([[ 0.3367,  0.2303,  2.2082],\n",
              "        [ 0.1288, -1.1229, -0.6380],\n",
              "        [ 0.2345, -0.1863,  0.4617]])"
            ]
          },
          "metadata": {},
          "execution_count": 24
        }
      ]
    },
    {
      "cell_type": "markdown",
      "metadata": {
        "id": "JerI0EHqT5D-"
      },
      "source": [
        "### 3.6 Reshaping 2d tensors"
      ]
    },
    {
      "cell_type": "code",
      "metadata": {
        "id": "6lQCxxCjTyPx",
        "outputId": "53cb19ac-4513-423e-c97b-140c5d9c62ac",
        "colab": {
          "base_uri": "https://localhost:8080/"
        }
      },
      "source": [
        "# setting the random seed for pytorch\n",
        "torch.manual_seed(42)\n",
        "\n",
        "# initializing tensor\n",
        "a = torch.randn(2,4)\n",
        "\n",
        "print(a)\n",
        "a.shape"
      ],
      "execution_count": 25,
      "outputs": [
        {
          "output_type": "stream",
          "name": "stdout",
          "text": [
            "tensor([[ 0.3367,  0.1288,  0.2345,  0.2303],\n",
            "        [-1.1229, -0.1863,  2.2082, -0.6380]])\n"
          ]
        },
        {
          "output_type": "execute_result",
          "data": {
            "text/plain": [
              "torch.Size([2, 4])"
            ]
          },
          "metadata": {},
          "execution_count": 25
        }
      ]
    },
    {
      "cell_type": "code",
      "metadata": {
        "id": "HQ4pGCReUCem",
        "outputId": "4226cc3d-a2f4-4731-b225-89766fdf71a5",
        "colab": {
          "base_uri": "https://localhost:8080/"
        }
      },
      "source": [
        "# reshaping tensor using reshape function\n",
        "b = a.reshape(1,8)\n",
        "\n",
        "print(b)\n",
        "b.shape"
      ],
      "execution_count": 26,
      "outputs": [
        {
          "output_type": "stream",
          "name": "stdout",
          "text": [
            "tensor([[ 0.3367,  0.1288,  0.2345,  0.2303, -1.1229, -0.1863,  2.2082, -0.6380]])\n"
          ]
        },
        {
          "output_type": "execute_result",
          "data": {
            "text/plain": [
              "torch.Size([1, 8])"
            ]
          },
          "metadata": {},
          "execution_count": 26
        }
      ]
    },
    {
      "cell_type": "code",
      "metadata": {
        "id": "Z84DECbxUouI",
        "outputId": "7b4eb410-8b3b-47cb-b344-51d8c94cb10b",
        "colab": {
          "base_uri": "https://localhost:8080/"
        }
      },
      "source": [
        "# reshaping tensor using view function\n",
        "b = a.view(1,8)\n",
        "\n",
        "print(b)\n",
        "b.shape"
      ],
      "execution_count": 27,
      "outputs": [
        {
          "output_type": "stream",
          "name": "stdout",
          "text": [
            "tensor([[ 0.3367,  0.1288,  0.2345,  0.2303, -1.1229, -0.1863,  2.2082, -0.6380]])\n"
          ]
        },
        {
          "output_type": "execute_result",
          "data": {
            "text/plain": [
              "torch.Size([1, 8])"
            ]
          },
          "metadata": {},
          "execution_count": 27
        }
      ]
    },
    {
      "cell_type": "code",
      "metadata": {
        "id": "AzXjV4OgNYIR",
        "outputId": "271e8983-7556-4b27-8ab5-e145af4dc1a6",
        "colab": {
          "base_uri": "https://localhost:8080/"
        }
      },
      "source": [
        "# sum of values in tensor\n",
        "print(a.sum())"
      ],
      "execution_count": 28,
      "outputs": [
        {
          "output_type": "stream",
          "name": "stdout",
          "text": [
            "tensor(1.1913)\n"
          ]
        }
      ]
    },
    {
      "cell_type": "code",
      "metadata": {
        "id": "fXfz3u4KN6xG",
        "outputId": "01784849-bce0-4121-82f4-1f0bd7aff662",
        "colab": {
          "base_uri": "https://localhost:8080/"
        }
      },
      "source": [
        "# average of values in tensor\n",
        "print(torch.mean(a))"
      ],
      "execution_count": 29,
      "outputs": [
        {
          "output_type": "stream",
          "name": "stdout",
          "text": [
            "tensor(0.1489)\n"
          ]
        }
      ]
    },
    {
      "cell_type": "markdown",
      "metadata": {
        "id": "rokieVCySG-U"
      },
      "source": [
        "To learn more about other operations in pytorch, refer this link: https://pytorch.org/docs/stable/torch.html"
      ]
    },
    {
      "cell_type": "markdown",
      "metadata": {
        "id": "-QeactZFU03V"
      },
      "source": [
        "## 4. Converting NumPy arrays to PyTorch tensors"
      ]
    },
    {
      "cell_type": "code",
      "metadata": {
        "id": "n-sP_dlHUxP_",
        "outputId": "6143817b-1065-41a3-8bf6-0add2a211c51",
        "colab": {
          "base_uri": "https://localhost:8080/"
        }
      },
      "source": [
        "# importing numpy library\n",
        "import numpy as np\n",
        "\n",
        "# initializing a numpy array\n",
        "a = np.array([[1,2],[3,4]])\n",
        "print(a)"
      ],
      "execution_count": 30,
      "outputs": [
        {
          "output_type": "stream",
          "name": "stdout",
          "text": [
            "[[1 2]\n",
            " [3 4]]\n"
          ]
        }
      ]
    },
    {
      "cell_type": "code",
      "metadata": {
        "id": "Ymi57mLIU-8A",
        "outputId": "62c1a693-5e81-45e4-8582-8f3a61e9ea7a",
        "colab": {
          "base_uri": "https://localhost:8080/"
        }
      },
      "source": [
        "type(a)"
      ],
      "execution_count": 31,
      "outputs": [
        {
          "output_type": "execute_result",
          "data": {
            "text/plain": [
              "numpy.ndarray"
            ]
          },
          "metadata": {},
          "execution_count": 31
        }
      ]
    },
    {
      "cell_type": "code",
      "metadata": {
        "id": "R-PoEavgVHOk",
        "outputId": "37a16234-fac0-4841-cd8d-e743a6b5efd0",
        "colab": {
          "base_uri": "https://localhost:8080/"
        }
      },
      "source": [
        "# converting the numpy array to tensor\n",
        "array_to_tensor = torch.from_numpy(a)\n",
        "print(array_to_tensor)"
      ],
      "execution_count": 32,
      "outputs": [
        {
          "output_type": "stream",
          "name": "stdout",
          "text": [
            "tensor([[1, 2],\n",
            "        [3, 4]])\n"
          ]
        }
      ]
    },
    {
      "cell_type": "code",
      "metadata": {
        "id": "jums6AzYVOwA",
        "outputId": "a5d20d87-acfa-4bdd-92c4-c34e555cac6d",
        "colab": {
          "base_uri": "https://localhost:8080/"
        }
      },
      "source": [
        "type(array_to_tensor)"
      ],
      "execution_count": 33,
      "outputs": [
        {
          "output_type": "execute_result",
          "data": {
            "text/plain": [
              "torch.Tensor"
            ]
          },
          "metadata": {},
          "execution_count": 33
        }
      ]
    },
    {
      "cell_type": "markdown",
      "metadata": {
        "id": "IchyVbUq6GjT"
      },
      "source": [
        "## 5. Converting PyTorch tensors to NumPy arrays"
      ]
    },
    {
      "cell_type": "code",
      "metadata": {
        "outputId": "8936a4dd-d28c-4fc0-d266-03734a11df12",
        "id": "voMAfw046Gjg",
        "colab": {
          "base_uri": "https://localhost:8080/"
        }
      },
      "source": [
        "# initializing a pytorch tensor\n",
        "a = torch.tensor([[1,2],[3,4]])\n",
        "print(a)\n",
        "\n",
        "type(a)"
      ],
      "execution_count": 34,
      "outputs": [
        {
          "output_type": "stream",
          "name": "stdout",
          "text": [
            "tensor([[1, 2],\n",
            "        [3, 4]])\n"
          ]
        },
        {
          "output_type": "execute_result",
          "data": {
            "text/plain": [
              "torch.Tensor"
            ]
          },
          "metadata": {},
          "execution_count": 34
        }
      ]
    },
    {
      "cell_type": "code",
      "metadata": {
        "outputId": "addb8859-7390-40c2-cac8-bacc3c6a4110",
        "id": "OWS1xbkW6GkB",
        "colab": {
          "base_uri": "https://localhost:8080/"
        }
      },
      "source": [
        "# converting pytorch tensor to numpy array\n",
        "tensor_to_array = a.numpy()\n",
        "print(tensor_to_array)\n",
        "\n",
        "type(tensor_to_array)"
      ],
      "execution_count": 35,
      "outputs": [
        {
          "output_type": "stream",
          "name": "stdout",
          "text": [
            "[[1 2]\n",
            " [3 4]]\n"
          ]
        },
        {
          "output_type": "execute_result",
          "data": {
            "text/plain": [
              "numpy.ndarray"
            ]
          },
          "metadata": {},
          "execution_count": 35
        }
      ]
    },
    {
      "cell_type": "markdown",
      "metadata": {
        "id": "CdFtXweZ61Vd"
      },
      "source": [
        "## 6. Using tensors on GPU"
      ]
    },
    {
      "cell_type": "code",
      "metadata": {
        "id": "UU53V6Ed6x_R",
        "outputId": "14c002c3-de45-4cfb-f266-aa793c1912c6",
        "colab": {
          "base_uri": "https://localhost:8080/"
        }
      },
      "source": [
        "# checking if GPU is available\n",
        "if torch.cuda.is_available():\n",
        "  print('GPU is available')\n",
        "else:\n",
        "  print('GPU is not available')"
      ],
      "execution_count": 36,
      "outputs": [
        {
          "output_type": "stream",
          "name": "stdout",
          "text": [
            "GPU is available\n"
          ]
        }
      ]
    },
    {
      "cell_type": "code",
      "metadata": {
        "id": "VqVJp6Ug7kHO"
      },
      "source": [
        "# sending the tensors to GPU\n",
        "a = torch.tensor([[1,2],[3,4]])\n",
        "b = torch.tensor([[1,2],[3,4]])\n",
        "a = a.cuda()\n",
        "b = b.cuda()"
      ],
      "execution_count": 37,
      "outputs": []
    },
    {
      "cell_type": "code",
      "metadata": {
        "id": "YLkt22iL713l",
        "outputId": "448bcf26-d12e-4467-97a9-b46032b1c141",
        "colab": {
          "base_uri": "https://localhost:8080/"
        }
      },
      "source": [
        "# performing some operation on GPU\n",
        "c = a+b\n",
        "print(c)"
      ],
      "execution_count": 38,
      "outputs": [
        {
          "output_type": "stream",
          "name": "stdout",
          "text": [
            "tensor([[2, 4],\n",
            "        [6, 8]], device='cuda:0')\n"
          ]
        }
      ]
    },
    {
      "cell_type": "code",
      "metadata": {
        "id": "ucaAOExf732m",
        "outputId": "3fce1ec4-9c8d-4ab4-ea9b-b979f71b118d",
        "colab": {
          "base_uri": "https://localhost:8080/"
        }
      },
      "source": [
        "# moving the results back to CPU\n",
        "c = c.cpu()\n",
        "print(c)"
      ],
      "execution_count": 39,
      "outputs": [
        {
          "output_type": "stream",
          "name": "stdout",
          "text": [
            "tensor([[2, 4],\n",
            "        [6, 8]])\n"
          ]
        }
      ]
    },
    {
      "cell_type": "code",
      "metadata": {
        "id": "apg788ScJBcC"
      },
      "source": [],
      "execution_count": null,
      "outputs": []
    }
  ]
}