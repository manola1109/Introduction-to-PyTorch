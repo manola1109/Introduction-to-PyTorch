{
  "nbformat": 4,
  "nbformat_minor": 0,
  "metadata": {
    "colab": {
      "provenance": [],
      "include_colab_link": true
    },
    "kernelspec": {
      "name": "python3",
      "display_name": "Python 3"
    },
    "accelerator": "GPU"
  },
  "cells": [
    {
      "cell_type": "markdown",
      "metadata": {
        "id": "view-in-github",
        "colab_type": "text"
      },
      "source": [
        "<a href=\"https://colab.research.google.com/github/manola1109/Introduction-to-PyTorch/blob/main/4_2_PyTorch_Autograd_Module.ipynb\" target=\"_parent\"><img src=\"https://colab.research.google.com/assets/colab-badge.svg\" alt=\"Open In Colab\"/></a>"
      ]
    },
    {
      "cell_type": "code",
      "metadata": {
        "id": "ufxjyUsuS70w"
      },
      "source": [
        "# importing torch library\n",
        "import torch"
      ],
      "execution_count": 1,
      "outputs": []
    },
    {
      "cell_type": "code",
      "metadata": {
        "id": "Y5L5cq2KS6tb",
        "colab": {
          "base_uri": "https://localhost:8080/"
        },
        "outputId": "c75092f2-e1c7-486a-d01c-5517c345d3ba"
      },
      "source": [
        "# initializing a 2d tensor\n",
        "a = torch.tensor([[1,1], [1,1]], dtype=torch.float)\n",
        "a"
      ],
      "execution_count": 2,
      "outputs": [
        {
          "output_type": "execute_result",
          "data": {
            "text/plain": [
              "tensor([[1., 1.],\n",
              "        [1., 1.]])"
            ]
          },
          "metadata": {},
          "execution_count": 2
        }
      ]
    },
    {
      "cell_type": "code",
      "metadata": {
        "id": "7sUfDwaETIMQ",
        "colab": {
          "base_uri": "https://localhost:8080/"
        },
        "outputId": "e90ad1bd-2f0a-4a52-b664-f098f3c5b9b3"
      },
      "source": [
        "# performing operations on the tensor\n",
        "b = a + 5\n",
        "print(b)"
      ],
      "execution_count": 3,
      "outputs": [
        {
          "output_type": "stream",
          "name": "stdout",
          "text": [
            "tensor([[6., 6.],\n",
            "        [6., 6.]])\n"
          ]
        }
      ]
    },
    {
      "cell_type": "code",
      "metadata": {
        "id": "AwzOn_BXTO6F",
        "colab": {
          "base_uri": "https://localhost:8080/"
        },
        "outputId": "8a09b042-c53b-4cf5-ccaf-62649ea4ed64"
      },
      "source": [
        "# performing another operation\n",
        "c = b.mean()\n",
        "print(c)"
      ],
      "execution_count": 4,
      "outputs": [
        {
          "output_type": "stream",
          "name": "stdout",
          "text": [
            "tensor(6.)\n"
          ]
        }
      ]
    },
    {
      "cell_type": "markdown",
      "metadata": {
        "id": "_UCuralTTrd5"
      },
      "source": [
        "### Operations we have applied\n",
        "\n",
        "\n",
        "\n",
        "1. First of all, we added 5 to all the elements of this tensor\n",
        "2. Then, we took the mean of that tensor\n",
        "\n",
        "We performed the following operations on a:\n",
        "\n",
        "b = a + 5\n",
        "\n",
        "c = mean(b) = Σ(a+5) / 4"
      ]
    },
    {
      "cell_type": "markdown",
      "metadata": {
        "id": "03e0CrUDQpd6"
      },
      "source": [
        "\n",
        "\n",
        "\n",
        "\n",
        "\n",
        "### Gradient of c with respect to a\n",
        "\n",
        "dc / da = dc/db * db / da = 1/4(1+0) * (1+0) = 1/4 = 0.25\n",
        "\n",
        "Similarly, we can compute for all elements of a"
      ]
    },
    {
      "cell_type": "markdown",
      "metadata": {
        "id": "H0NymKMlUaSf"
      },
      "source": [
        "## Automatic Differentiation"
      ]
    },
    {
      "cell_type": "code",
      "metadata": {
        "id": "nvVnfksYUZz9",
        "colab": {
          "base_uri": "https://localhost:8080/"
        },
        "outputId": "b3463d72-72d3-464c-c51b-8f7c8ba1566b"
      },
      "source": [
        "# initializing a 2d tensor and setting requires_grad as True\n",
        "a = torch.tensor([[1,1], [1,1]], dtype= torch.float, requires_grad=True)\n",
        "a"
      ],
      "execution_count": 5,
      "outputs": [
        {
          "output_type": "execute_result",
          "data": {
            "text/plain": [
              "tensor([[1., 1.],\n",
              "        [1., 1.]], requires_grad=True)"
            ]
          },
          "metadata": {},
          "execution_count": 5
        }
      ]
    },
    {
      "cell_type": "code",
      "metadata": {
        "id": "wZQSTpMsTgjg",
        "colab": {
          "base_uri": "https://localhost:8080/"
        },
        "outputId": "f629e28c-b509-4ab4-f315-e1499ef6775f"
      },
      "source": [
        "# performing operations on the tensor\n",
        "b = a + 5\n",
        "c = b.mean()\n",
        "print(b)\n",
        "print(c)"
      ],
      "execution_count": 6,
      "outputs": [
        {
          "output_type": "stream",
          "name": "stdout",
          "text": [
            "tensor([[6., 6.],\n",
            "        [6., 6.]], grad_fn=<AddBackward0>)\n",
            "tensor(6., grad_fn=<MeanBackward0>)\n"
          ]
        }
      ]
    },
    {
      "cell_type": "code",
      "metadata": {
        "id": "3mib79cKUpLO"
      },
      "source": [
        "# back propagating\n",
        "c.backward()"
      ],
      "execution_count": 7,
      "outputs": []
    },
    {
      "cell_type": "code",
      "metadata": {
        "id": "z3MDNuFUUwwE",
        "colab": {
          "base_uri": "https://localhost:8080/"
        },
        "outputId": "cc8d2e07-d054-41a5-f971-85e5c374b6b4"
      },
      "source": [
        "# calculated gradients\n",
        "print(a.grad)"
      ],
      "execution_count": 8,
      "outputs": [
        {
          "output_type": "stream",
          "name": "stdout",
          "text": [
            "tensor([[0.2500, 0.2500],\n",
            "        [0.2500, 0.2500]])\n"
          ]
        }
      ]
    },
    {
      "cell_type": "code",
      "metadata": {
        "id": "Kou6WvaQUzwz"
      },
      "source": [],
      "execution_count": null,
      "outputs": []
    }
  ]
}